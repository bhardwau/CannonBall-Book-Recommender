{
 "cells": [
  {
   "cell_type": "code",
   "execution_count": 164,
   "metadata": {},
   "outputs": [],
   "source": [
    "import pandas as pd\n",
    "import sklearn\n",
    "import re\n",
    "import nltk\n",
    "from nltk.corpus import stopwords \n",
    "from nltk.stem.wordnet import WordNetLemmatizer\n",
    "from nltk.tokenize import RegexpTokenizer\n",
    "import string\n",
    "from gensim import corpora\n",
    "from gensim.models import LsiModel\n",
    "from nltk.stem.porter import PorterStemmer\n",
    "from sklearn.feature_extraction.text import TfidfVectorizer\n",
    "from gensim.models.coherencemodel import CoherenceModel\n",
    "from sklearn.metrics.pairwise import linear_kernel\n",
    "from sklearn.feature_extraction.text import CountVectorizer\n",
    "from sklearn.metrics.pairwise import cosine_similarity\n"
   ]
  },
  {
   "cell_type": "code",
   "execution_count": 165,
   "metadata": {},
   "outputs": [],
   "source": [
    "book_data = pd.read_csv(\"books.csv\")\n",
    "user_data = pd.read_csv(\"users.csv\")"
   ]
  },
  {
   "cell_type": "code",
   "execution_count": 168,
   "metadata": {},
   "outputs": [
    {
     "data": {
      "text/plain": [
       "Index(['_id', 'id', 'title', 'isbn', 'isbn13', 'asin', 'kindle_asin',\n",
       "       'marketplace_id', 'country_code', 'publication_year',\n",
       "       'publication_month', 'publication_day', 'publisher', 'language_code',\n",
       "       'is_ebook', 'description', 'work', 'average_rating', 'num_pages',\n",
       "       'format', 'edition_information', 'ratings_count', 'text_reviews_count',\n",
       "       'authors', 'popular_shelves', 'book_links', 'series_works',\n",
       "       'similar_books', 'public_document'],\n",
       "      dtype='object')"
      ]
     },
     "execution_count": 168,
     "metadata": {},
     "output_type": "execute_result"
    }
   ],
   "source": [
    "book_data.keys()"
   ]
  },
  {
   "cell_type": "code",
   "execution_count": 169,
   "metadata": {},
   "outputs": [],
   "source": [
    "book_data = book_data.drop(['publication_day','isbn','isbn13','publication_month','publication_day','is_ebook','work','average_rating','num_pages','format','edition_information','ratings_count','book_links','series_works','similar_books'],axis = 1)\n"
   ]
  },
  {
   "cell_type": "code",
   "execution_count": 171,
   "metadata": {},
   "outputs": [],
   "source": [
    "book_data = book_data.drop(['asin','kindle_asin','marketplace_id','country_code','text_reviews_count','public_document'], axis = 1)"
   ]
  },
  {
   "cell_type": "code",
   "execution_count": 172,
   "metadata": {},
   "outputs": [
    {
     "data": {
      "text/plain": [
       "Index(['_id', 'id', 'title', 'publication_year', 'publisher', 'language_code',\n",
       "       'description', 'authors', 'popular_shelves'],\n",
       "      dtype='object')"
      ]
     },
     "execution_count": 172,
     "metadata": {},
     "output_type": "execute_result"
    }
   ],
   "source": [
    "book_data.keys()"
   ]
  },
  {
   "cell_type": "code",
   "execution_count": 173,
   "metadata": {},
   "outputs": [],
   "source": [
    "book_data = book_data.drop(['_id','id'], axis = 1)"
   ]
  },
  {
   "cell_type": "code",
   "execution_count": 177,
   "metadata": {},
   "outputs": [
    {
     "data": {
      "text/html": [
       "<div>\n",
       "<style scoped>\n",
       "    .dataframe tbody tr th:only-of-type {\n",
       "        vertical-align: middle;\n",
       "    }\n",
       "\n",
       "    .dataframe tbody tr th {\n",
       "        vertical-align: top;\n",
       "    }\n",
       "\n",
       "    .dataframe thead th {\n",
       "        text-align: right;\n",
       "    }\n",
       "</style>\n",
       "<table border=\"1\" class=\"dataframe\">\n",
       "  <thead>\n",
       "    <tr style=\"text-align: right;\">\n",
       "      <th></th>\n",
       "      <th>title</th>\n",
       "      <th>publication_year</th>\n",
       "      <th>publisher</th>\n",
       "      <th>language_code</th>\n",
       "      <th>description</th>\n",
       "      <th>authors</th>\n",
       "      <th>popular_shelves</th>\n",
       "    </tr>\n",
       "  </thead>\n",
       "  <tbody>\n",
       "    <tr>\n",
       "      <td>0</td>\n",
       "      <td>Harry Potter and the Half-Blood Prince (Harry ...</td>\n",
       "      <td>2006.0</td>\n",
       "      <td>Scholastic Inc.</td>\n",
       "      <td>eng</td>\n",
       "      <td>When Harry Potter and the Half-Blood Prince op...</td>\n",
       "      <td>{'author': [{'id': '1077326', 'name': 'J.K. Ro...</td>\n",
       "      <td>{'shelf': [{'@name': 'to-read', '@count': '253...</td>\n",
       "    </tr>\n",
       "    <tr>\n",
       "      <td>1</td>\n",
       "      <td>Harry Potter and the Order of the Phoenix (Har...</td>\n",
       "      <td>2004.0</td>\n",
       "      <td>Scholastic Inc.</td>\n",
       "      <td>eng</td>\n",
       "      <td>There is a door at the end of a silent corrido...</td>\n",
       "      <td>{'author': [{'id': '1077326', 'name': 'J.K. Ro...</td>\n",
       "      <td>{'shelf': [{'@name': 'fantasy', '@count': '439...</td>\n",
       "    </tr>\n",
       "    <tr>\n",
       "      <td>2</td>\n",
       "      <td>Harry Potter and the Sorcerer's Stone (Harry P...</td>\n",
       "      <td>1997.0</td>\n",
       "      <td>Scholastic Inc</td>\n",
       "      <td>eng</td>\n",
       "      <td>Harry Potter's life is miserable. His parents ...</td>\n",
       "      <td>{'author': [{'id': '1077326', 'name': 'J.K. Ro...</td>\n",
       "      <td>{'shelf': [{'@name': 'to-read', '@count': '795...</td>\n",
       "    </tr>\n",
       "    <tr>\n",
       "      <td>3</td>\n",
       "      <td>Harry Potter and the Chamber of Secrets (Harry...</td>\n",
       "      <td>2003.0</td>\n",
       "      <td>Scholastic</td>\n",
       "      <td>eng</td>\n",
       "      <td>The Dursleys were so mean and hideous that sum...</td>\n",
       "      <td>{'author': {'id': '1077326', 'name': 'J.K. Row...</td>\n",
       "      <td>{'shelf': [{'@name': 'to-read', '@count': '208...</td>\n",
       "    </tr>\n",
       "    <tr>\n",
       "      <td>4</td>\n",
       "      <td>Harry Potter and the Prisoner of Azkaban (Harr...</td>\n",
       "      <td>2004.0</td>\n",
       "      <td>Scholastic Inc.</td>\n",
       "      <td>eng</td>\n",
       "      <td>Harry Potter's third year at Hogwarts is full ...</td>\n",
       "      <td>{'author': [{'id': '1077326', 'name': 'J.K. Ro...</td>\n",
       "      <td>{'shelf': [{'@name': 'to-read', '@count': '217...</td>\n",
       "    </tr>\n",
       "  </tbody>\n",
       "</table>\n",
       "</div>"
      ],
      "text/plain": [
       "                                               title  publication_year  \\\n",
       "0  Harry Potter and the Half-Blood Prince (Harry ...            2006.0   \n",
       "1  Harry Potter and the Order of the Phoenix (Har...            2004.0   \n",
       "2  Harry Potter and the Sorcerer's Stone (Harry P...            1997.0   \n",
       "3  Harry Potter and the Chamber of Secrets (Harry...            2003.0   \n",
       "4  Harry Potter and the Prisoner of Azkaban (Harr...            2004.0   \n",
       "\n",
       "         publisher language_code  \\\n",
       "0  Scholastic Inc.           eng   \n",
       "1  Scholastic Inc.           eng   \n",
       "2   Scholastic Inc           eng   \n",
       "3       Scholastic           eng   \n",
       "4  Scholastic Inc.           eng   \n",
       "\n",
       "                                         description  \\\n",
       "0  When Harry Potter and the Half-Blood Prince op...   \n",
       "1  There is a door at the end of a silent corrido...   \n",
       "2  Harry Potter's life is miserable. His parents ...   \n",
       "3  The Dursleys were so mean and hideous that sum...   \n",
       "4  Harry Potter's third year at Hogwarts is full ...   \n",
       "\n",
       "                                             authors  \\\n",
       "0  {'author': [{'id': '1077326', 'name': 'J.K. Ro...   \n",
       "1  {'author': [{'id': '1077326', 'name': 'J.K. Ro...   \n",
       "2  {'author': [{'id': '1077326', 'name': 'J.K. Ro...   \n",
       "3  {'author': {'id': '1077326', 'name': 'J.K. Row...   \n",
       "4  {'author': [{'id': '1077326', 'name': 'J.K. Ro...   \n",
       "\n",
       "                                     popular_shelves  \n",
       "0  {'shelf': [{'@name': 'to-read', '@count': '253...  \n",
       "1  {'shelf': [{'@name': 'fantasy', '@count': '439...  \n",
       "2  {'shelf': [{'@name': 'to-read', '@count': '795...  \n",
       "3  {'shelf': [{'@name': 'to-read', '@count': '208...  \n",
       "4  {'shelf': [{'@name': 'to-read', '@count': '217...  "
      ]
     },
     "execution_count": 177,
     "metadata": {},
     "output_type": "execute_result"
    }
   ],
   "source": [
    "book_data.head()"
   ]
  },
  {
   "cell_type": "code",
   "execution_count": 178,
   "metadata": {},
   "outputs": [],
   "source": [
    "for i in range (book_data.shape[0]):\n",
    "        book_data.iloc[i,6] = re.sub(r\"[^a-zA-Z]+\", ' ', book_data.iloc[i,6])"
   ]
  },
  {
   "cell_type": "code",
   "execution_count": 179,
   "metadata": {},
   "outputs": [],
   "source": [
    "word = ['name','count','shelf']\n",
    "for i in range(book_data.shape[0]):\n",
    "    word_list = book_data.iloc[i,6].split();\n",
    "    book_data.iloc[i,6] = ' '.join([i for i in word_list if i not in word])\n"
   ]
  },
  {
   "cell_type": "code",
   "execution_count": 180,
   "metadata": {},
   "outputs": [],
   "source": [
    "for i in range (book_data.shape[0]):\n",
    "        book_data.iloc[i,5] = re.sub(r\"[^a-zA-Z]+\", ' ', book_data.iloc[i,5])"
   ]
  },
  {
   "cell_type": "code",
   "execution_count": 181,
   "metadata": {},
   "outputs": [],
   "source": [
    "word = ['name','count','shelf']\n",
    "for i in range(book_data.shape[0]):\n",
    "    word_list = book_data.iloc[i,6].split();\n",
    "    book_data.iloc[i,6] = ' '.join([i for i in word_list if i not in word])\n"
   ]
  },
  {
   "cell_type": "code",
   "execution_count": 184,
   "metadata": {},
   "outputs": [],
   "source": [
    "def pre_process(x):\n",
    "    if isinstance(x, list):\n",
    "        return [str.lower(i.replace(\" \", \" \")) for i in x]\n",
    "    else:\n",
    "        if isinstance(x, str):\n",
    "            return str.lower(x.replace(\" \", \" \"))\n",
    "        else:\n",
    "            return ''"
   ]
  },
  {
   "cell_type": "code",
   "execution_count": 185,
   "metadata": {},
   "outputs": [],
   "source": [
    "columns = ['description','authors','publisher','popular_shelves']\n",
    "\n",
    "for f in columns:\n",
    "    book_data[f] = book_data[f].apply(pre_process)"
   ]
  },
  {
   "cell_type": "code",
   "execution_count": 186,
   "metadata": {},
   "outputs": [],
   "source": [
    "def combine(x):\n",
    "    return  (x['description']) + ' ' + (x['authors']) + ' ' + (x['publisher']) + ' ' + (x['popular_shelves'])"
   ]
  },
  {
   "cell_type": "code",
   "execution_count": 188,
   "metadata": {},
   "outputs": [],
   "source": [
    "book_data['train'] = book_data.apply(combine,axis = 1)"
   ]
  },
  {
   "cell_type": "code",
   "execution_count": 190,
   "metadata": {},
   "outputs": [],
   "source": [
    "word_stopped = TfidfVectorizer(stop_words='english')\n",
    "\n",
    "book_data['train'] = book_data['train'].fillna('')\n",
    "\n",
    "matrix = word_stopped.fit_transform(book_data['train'])\n"
   ]
  },
  {
   "cell_type": "code",
   "execution_count": 192,
   "metadata": {},
   "outputs": [],
   "source": [
    "co_sim = linear_kernel(matrix,matrix)"
   ]
  },
  {
   "cell_type": "code",
   "execution_count": 194,
   "metadata": {},
   "outputs": [],
   "source": [
    "book_data = book_data.reset_index()"
   ]
  },
  {
   "cell_type": "code",
   "execution_count": 195,
   "metadata": {},
   "outputs": [],
   "source": [
    "indexing = pd.Series(book_data.index, index=book_data['title']).drop_duplicates()"
   ]
  },
  {
   "cell_type": "code",
   "execution_count": null,
   "metadata": {},
   "outputs": [],
   "source": [
    "indexing = pd.Series(book_data.index, index=book_data['title','publisher']).drop_duplicates()"
   ]
  },
  {
   "cell_type": "code",
   "execution_count": 223,
   "metadata": {},
   "outputs": [],
   "source": [
    "resultss = []"
   ]
  },
  {
   "cell_type": "code",
   "execution_count": 228,
   "metadata": {},
   "outputs": [],
   "source": [
    "def get_recommendations(title,cosine_sim1 = co_sim):\n",
    "    index = indexing[title]\n",
    "    similarity = list(enumerate(cosine_sim1[index]))\n",
    "    \n",
    "    similarity = sorted(similarity,key=lambda i: i[1], reverse = True)\n",
    "    \n",
    "    similarity = similarity[1:20]\n",
    "    \n",
    "    movie_index = [j[0] for j in similarity ]\n",
    "    resultss = book_data['title'].iloc[movie_index]\n",
    "    return resultss"
   ]
  },
  {
   "cell_type": "code",
   "execution_count": 229,
   "metadata": {},
   "outputs": [
    {
     "data": {
      "text/plain": [
       "'The Door Into Summer'"
      ]
     },
     "execution_count": 229,
     "metadata": {},
     "output_type": "execute_result"
    }
   ],
   "source": [
    "book_data['title'][323]"
   ]
  },
  {
   "cell_type": "code",
   "execution_count": 230,
   "metadata": {},
   "outputs": [
    {
     "data": {
      "text/plain": [
       "328                                  Time Enough for Love\n",
       "329                             To Sail Beyond the Sunset\n",
       "331        Time for the Stars (Heinlein's Juveniles, #10)\n",
       "330                              Job: A Comedy of Justice\n",
       "326              Starman Jones (Heinlein's Juveniles, #7)\n",
       "325                            Stranger in a Strange Land\n",
       "327                         The Notebooks of Lazarus Long\n",
       "105          Dune Trilogy Box Set (Dune Chronicles, #1-3)\n",
       "324                          The Moon is a Harsh Mistress\n",
       "336     Life, the Universe and Everything (Hitchhiker'...\n",
       "103                 Children of Dune (Dune Chronicles #3)\n",
       "1945            Whipping Star (ConSentiency Universe, #1)\n",
       "97                      Dune Messiah (Dune Chronicles #2)\n",
       "94              God Emperor of Dune (Dune Chronicles, #4)\n",
       "322     Off the Main Sequence: The Other Science Ficti...\n",
       "1944    The Dosadi Experiment (ConSentiency Universe, #2)\n",
       "15      The Hitchhiker's Guide to the Galaxy (Hitchhik...\n",
       "108                 Heretics of Dune (Dune Chronicles #5)\n",
       "789                                            Snow Crash\n",
       "Name: title, dtype: object"
      ]
     },
     "execution_count": 230,
     "metadata": {},
     "output_type": "execute_result"
    }
   ],
   "source": [
    "get_recommendations('The Door Into Summer')"
   ]
  },
  {
   "cell_type": "code",
   "execution_count": 126,
   "metadata": {},
   "outputs": [
    {
     "data": {
      "text/plain": [
       "2003                                      Freedom Evolves\n",
       "2005                               The Intentional Stance\n",
       "2010    Elbow Room: The Varieties of Free Will Worth W...\n",
       "2001                              Consciousness Explained\n",
       "2002    Sweet Dreams: Philosophical Obstacles to a Sci...\n",
       "1999    Breaking the Spell: Religion as a Natural Phen...\n",
       "2031     Stephen Hawking's Universe: The Cosmos Explained\n",
       "2004    Brainstorms: Philosophical Essays on Mind and ...\n",
       "2006    Kinds of Minds: Towards an Understanding of Co...\n",
       "2008    Kinds of Minds: The Origins Of Consciousness (...\n",
       "Name: title, dtype: object"
      ]
     },
     "execution_count": 126,
     "metadata": {},
     "output_type": "execute_result"
    }
   ],
   "source": [
    "get_recommendations(\"Darwin's Dangerous Idea: Evolution and the Meanings of Life\")"
   ]
  },
  {
   "cell_type": "code",
   "execution_count": 162,
   "metadata": {},
   "outputs": [
    {
     "data": {
      "text/plain": [
       "2014    Index To The Dennett Quartet: A Boxed Set Of B...\n",
       "2001                              Consciousness Explained\n",
       "2178    Daily Reflections For Highly Effective People:...\n",
       "2005                               The Intentional Stance\n",
       "2175    The 7 Habits of Highly Effective People Person...\n",
       "2003                                      Freedom Evolves\n",
       "1830    High Exposure: An Enduring Passion for Everest...\n",
       "1499                                     Oedipus the King\n",
       "2408                                     The Time Machine\n",
       "1565                                        Twelfth Night\n",
       "Name: title, dtype: object"
      ]
     },
     "execution_count": 162,
     "metadata": {},
     "output_type": "execute_result"
    }
   ],
   "source": [
    "get_recommendations(\"Darwin's Dangerous Idea: Evolution and the Meanings of Life\")"
   ]
  },
  {
   "cell_type": "code",
   "execution_count": 200,
   "metadata": {},
   "outputs": [
    {
     "data": {
      "text/plain": [
       "2003                                      Freedom Evolves\n",
       "1928    The Third Chimpanzee: The Evolution & Future o...\n",
       "2001                              Consciousness Explained\n",
       "1927    The Rise And Fall Of The Third Chimpanzee: how...\n",
       "1926    Why Is Sex Fun? The Evolution of Human Sexuali...\n",
       "2080    In The Blink Of An Eye: How Vision Sparked The...\n",
       "2010    Elbow Room: The Varieties of Free Will Worth W...\n",
       "2027                           The Universe in a Nutshell\n",
       "1999    Breaking the Spell: Religion as a Natural Phen...\n",
       "2008    Kinds of Minds: The Origins Of Consciousness (...\n",
       "Name: title, dtype: object"
      ]
     },
     "execution_count": 200,
     "metadata": {},
     "output_type": "execute_result"
    }
   ],
   "source": [
    "get_recommendations(\"Darwin's Dangerous Idea: Evolution and the Meanings of Life\")"
   ]
  },
  {
   "cell_type": "code",
   "execution_count": 203,
   "metadata": {},
   "outputs": [
    {
     "data": {
      "text/plain": [
       "512                  Storage Network Performance Analysis\n",
       "511                     Storage Area Networks For Dummies\n",
       "514                      Taunton's Home Storage Idea Book\n",
       "510     USB Mass Storage: Designing and Programming De...\n",
       "692                               Jazz Guitar Chord Solos\n",
       "671     America (The Book): A Citizen's Guide to Democ...\n",
       "513                                  Complete Home Storge\n",
       "1746                         Correctional Case Management\n",
       "1747    Alternative Sentencing: Electronically Monitor...\n",
       "2225                 The Emergence of Sociological Theory\n",
       "Name: title, dtype: object"
      ]
     },
     "execution_count": 203,
     "metadata": {},
     "output_type": "execute_result"
    }
   ],
   "source": [
    "get_recommendations('Storage Area Network Essentials: A Complete Guide to Understanding and Implementing Sans')"
   ]
  },
  {
   "cell_type": "code",
   "execution_count": 208,
   "metadata": {},
   "outputs": [
    {
     "data": {
      "text/plain": [
       "614     Logo Design Workbook: A Hands-On Guide to Crea...\n",
       "2684       History of Graphic Design--Instructor's Manual\n",
       "2701       Type and Image: The Language of Graphic Design\n",
       "2681                     Meggs' History of Graphic Design\n",
       "615     LOGO Lounge: 2,000 International Identities by...\n",
       "2683     Graphic Design: A Concise History (World of Art)\n",
       "655                                      The End of Print\n",
       "617                 Los Logos: A Selected LOGO Collection\n",
       "2703           Typographic Design: Form and Communication\n",
       "1802    The Elements of User Experience: User-Centered...\n",
       "Name: title, dtype: object"
      ]
     },
     "execution_count": 208,
     "metadata": {},
     "output_type": "execute_result"
    }
   ],
   "source": [
    "get_recommendations('Letterhead and Logo Design 9')"
   ]
  },
  {
   "cell_type": "code",
   "execution_count": 213,
   "metadata": {},
   "outputs": [
    {
     "data": {
      "text/plain": [
       "2430    The Baby Name Wizard: A Magical Method for Fin...\n",
       "2531    Great Expectations: Your All-In-One Resource f...\n",
       "2148                   Your Baby's First Year for Dummies\n",
       "2436                               50,001 Best Baby Names\n",
       "2339    The Three-Martini Playdate: A Practical Guide ...\n",
       "2146                             Baby Signing For Dummies\n",
       "2648    My Boys Can Swim!: The Official Guy's Guide to...\n",
       "896     Los 5 Lenguajes Del Amor De Los Ninos / The Fi...\n",
       "904                   The Five Love Languages of Children\n",
       "2435                                Cool Names for Babies\n",
       "Name: title, dtype: object"
      ]
     },
     "execution_count": 213,
     "metadata": {},
     "output_type": "execute_result"
    }
   ],
   "source": [
    "get_recommendations('What to Expect the First Year (What to Expect)')"
   ]
  },
  {
   "cell_type": "code",
   "execution_count": 217,
   "metadata": {},
   "outputs": [
    {
     "data": {
      "text/plain": [
       "31      The Lord of the Rings (The Lord of the Rings, ...\n",
       "33      The Lord of the Rings (The Lord of the Rings, ...\n",
       "36                          The Lord of the Rings Box Set\n",
       "30      The Lord of the Rings (The Lord of the Rings, ...\n",
       "28      J.R.R. Tolkien 4-Book Boxed Set: The Hobbit an...\n",
       "2251    The Lord of the Rings- 3 volumes set (The Lord...\n",
       "37                                  The Lord of the Rings\n",
       "29      The Lord of the Rings (The Lord of the Rings, ...\n",
       "2253                                  Farmer Giles of Ham\n",
       "2250              The Languages of Tolkien's Middle-Earth\n",
       "2249    The History of the Lord of the Rings (The Hist...\n",
       "105          Dune Trilogy Box Set (Dune Chronicles, #1-3)\n",
       "2812                                   The Worm Ouroboros\n",
       "2811                                   The Worm Ouroboros\n",
       "336     Life, the Universe and Everything (Hitchhiker'...\n",
       "15      The Hitchhiker's Guide to the Galaxy (Hitchhik...\n",
       "35       The Lord of the Rings: Complete Visual Companion\n",
       "2247                        The Letters of J.R.R. Tolkien\n",
       "2717    The Time Quartet (A Wrinkle in Time, A Wind in...\n",
       "Name: title, dtype: object"
      ]
     },
     "execution_count": 217,
     "metadata": {},
     "output_type": "execute_result"
    }
   ],
   "source": [
    "get_recommendations('The Fellowship of the Ring (The Lord of the Rings, #1)')"
   ]
  },
  {
   "cell_type": "code",
   "execution_count": 227,
   "metadata": {},
   "outputs": [
    {
     "data": {
      "text/plain": [
       "128                 Starting an eBay Business for Dummies\n",
       "131     eBay Business All-in-One Desk Reference for Du...\n",
       "130                ebay Timesaving Techniques for Dummies\n",
       "123     How to Buy, Sell & Profit on eBay: Kick-Start ...\n",
       "127     Titanium eBay: A Tactical Guide to Becoming a ...\n",
       "129                eBay: Top 100 Simplified Tips & Tricks\n",
       "126     What to Sell on ebay and Where to Get It: The ...\n",
       "125     eBay PowerSeller Secrets: Insider Tips from eB...\n",
       "2487    The Long Tail:  Why The Future Is Selling Less...\n",
       "589                   The Automatic Millionaire Homeowner\n",
       "637                                   Sailing for Dummies\n",
       "1004                           The Richest Man in Babylon\n",
       "2529    The Innovator's Solution: Creating and Sustain...\n",
       "2145                                      Sex For Dummies\n",
       "955     The Millionaire Next Door: The Surprising Secr...\n",
       "950     The Millionaire Next Door: The Surprising Secr...\n",
       "2580    The Wealthy Barber: The Common Sense Guide to ...\n",
       "2581    The Wealthy Barber: The Common Sense Guide to ...\n",
       "2486    The Long Tail: Why the Future of Business Is S...\n",
       "Name: title, dtype: object"
      ]
     },
     "execution_count": 227,
     "metadata": {},
     "output_type": "execute_result"
    }
   ],
   "source": [
    "    get_recommendations('eBay for Dummies')"
   ]
  },
  {
   "cell_type": "code",
   "execution_count": null,
   "metadata": {},
   "outputs": [],
   "source": []
  }
 ],
 "metadata": {
  "kernelspec": {
   "display_name": "Python 3",
   "language": "python",
   "name": "python3"
  },
  "language_info": {
   "codemirror_mode": {
    "name": "ipython",
    "version": 3
   },
   "file_extension": ".py",
   "mimetype": "text/x-python",
   "name": "python",
   "nbconvert_exporter": "python",
   "pygments_lexer": "ipython3",
   "version": "3.7.4"
  }
 },
 "nbformat": 4,
 "nbformat_minor": 2
}
